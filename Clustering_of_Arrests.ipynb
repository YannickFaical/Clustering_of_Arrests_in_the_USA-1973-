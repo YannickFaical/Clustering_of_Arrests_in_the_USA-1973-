{
 "cells": [
  {
   "cell_type": "code",
   "id": "initial_id",
   "metadata": {
    "collapsed": true,
    "ExecuteTime": {
     "end_time": "2025-02-24T16:35:59.635295Z",
     "start_time": "2025-02-24T16:35:58.759570Z"
    }
   },
   "source": [
    "import pandas as pd\n",
    "import numpy as np\n",
    "import matplotlib.pyplot as plt\n",
    "import seaborn as sns\n",
    "from sklearn.preprocessing import StandardScaler\n",
    "from sklearn.cluster import KMeans, DBSCAN, AgglomerativeClustering\n",
    "from sklearn.metrics import silhouette_score\n"
   ],
   "outputs": [],
   "execution_count": 1
  },
  {
   "metadata": {
    "ExecuteTime": {
     "end_time": "2025-02-24T16:37:51.040016Z",
     "start_time": "2025-02-24T16:37:50.991543Z"
    }
   },
   "cell_type": "code",
   "source": [
    "#chargement des données\n",
    "df =pd.read_csv('USArrests.csv')\n",
    "#affichage des 5 premieres lignes \n",
    "print(df.head())\n",
    "\n"
   ],
   "id": "98c7e7a58a0ec2b6",
   "outputs": [
    {
     "name": "stdout",
     "output_type": "stream",
     "text": [
      "   Murder  Assault  UrbanPop  Rape       State\n",
      "0    13.2      236        58  21.2     Alabama\n",
      "1    10.0      263        48  44.5      Alaska\n",
      "2     8.1      294        80  31.0     Arizona\n",
      "3     8.8      190        50  19.5    Arkansas\n",
      "4     9.0      276        91  40.6  California\n"
     ]
    }
   ],
   "execution_count": 2
  }
 ],
 "metadata": {
  "kernelspec": {
   "display_name": "Python 3",
   "language": "python",
   "name": "python3"
  },
  "language_info": {
   "codemirror_mode": {
    "name": "ipython",
    "version": 2
   },
   "file_extension": ".py",
   "mimetype": "text/x-python",
   "name": "python",
   "nbconvert_exporter": "python",
   "pygments_lexer": "ipython2",
   "version": "2.7.6"
  }
 },
 "nbformat": 4,
 "nbformat_minor": 5
}
